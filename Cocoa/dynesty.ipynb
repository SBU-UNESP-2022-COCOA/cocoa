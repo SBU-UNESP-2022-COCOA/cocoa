{
 "cells": [
  {
   "cell_type": "code",
   "execution_count": 1,
   "id": "3cbf4677",
   "metadata": {},
   "outputs": [
    {
     "name": "stderr",
     "output_type": "stream",
     "text": [
      "/gpfs/home/kuzhong/.conda/envs/cocoatorch/lib/python3.7/site-packages/tqdm/auto.py:22: TqdmWarning: IProgress not found. Please update jupyter and ipywidgets. See https://ipywidgets.readthedocs.io/en/stable/user_install.html\n",
      "  from .autonotebook import tqdm as notebook_tqdm\n"
     ]
    }
   ],
   "source": [
    "# system functions that are always useful to have\n",
    "import time, sys, os\n",
    "\n",
    "# basic numeric setup\n",
    "import numpy as np\n",
    "from numpy import linalg\n",
    "\n",
    "# inline plotting\n",
    "%matplotlib inline\n",
    "\n",
    "# plotting\n",
    "import matplotlib\n",
    "from matplotlib import pyplot as plt\n",
    "from mpl_toolkits.mplot3d import Axes3D\n",
    "\n",
    "# seed the random number generator\n",
    "rstate = np.random.default_rng(5647)\n",
    "\n",
    "import matplotlib\n",
    "import matplotlib.pyplot as plt\n",
    "import os, sys, time\n",
    "from io import StringIO \n",
    "import torch\n",
    "from cobaya.yaml import yaml_load_file\n",
    "from cobaya.run import run\n",
    "from cobaya.post import post\n",
    "from getdist.mcsamples import MCSamplesFromCobaya\n",
    "import getdist.plots as gdplt\n",
    "from getdist import MCSamples\n",
    "from getdist import loadMCSamples\n",
    "#from mpi4py import MPI\n",
    "import matplotlib.pylab as pylab\n",
    "params = {'legend.fontsize': 'x-large',\n",
    "         'axes.labelsize': 'x-large',\n",
    "         'axes.titlesize':'x-large',\n",
    "         'xtick.labelsize':'x-large',\n",
    "         'ytick.labelsize':'x-large'}\n",
    "pylab.rcParams.update(params)"
   ]
  },
  {
   "cell_type": "markdown",
   "id": "1a6a274d",
   "metadata": {},
   "source": [
    "I have no idea why, but it seems the option with no specific pool is running MPI across cores\n",
    "And the core number is related to the notebook.slurm setting --cpus-per-task"
   ]
  },
  {
   "cell_type": "code",
   "execution_count": 10,
   "id": "7cf31f06",
   "metadata": {},
   "outputs": [
    {
     "name": "stdout",
     "output_type": "stream",
     "text": [
      "Number of cpu :  28\n"
     ]
    }
   ],
   "source": [
    "import multiprocessing\n",
    "\n",
    "print(\"Number of cpu : \", multiprocessing.cpu_count())\n"
   ]
  },
  {
   "cell_type": "code",
   "execution_count": 15,
   "id": "f7e5c763",
   "metadata": {},
   "outputs": [
    {
     "name": "stdout",
     "output_type": "stream",
     "text": [
      "{'dynesty': {'is_dynamical': True, 'print_progress': True, 'parallel': {'kind': 'schwimmbad', 'args': {'threads': 100}}, 'posterior_evidence_ratio': 0.2, 'nlive_init': 500, 'nlive_batch': 100}}\n",
      "[output] Output to be read-from/written-into folder './projects/lsst_y1/chains', with prefix 'EXAMPLE_dynesty3'\n",
      "[output] Found existing info files with the requested output prefix: './projects/lsst_y1/chains/EXAMPLE_dynesty3'\n",
      "[output] Will delete previous products ('force' was requested).\n",
      "Getting covariance...\n",
      "[dynesty] Calling dynesty...\n",
      "[dynesty] Use Dynamical Nested Sampling\n"
     ]
    },
    {
     "ename": "ValueError",
     "evalue": "Tried to create an MPI pool, but there was only one MPI process available. Need at least two.",
     "output_type": "error",
     "traceback": [
      "\u001b[0;31m---------------------------------------------------------------------------\u001b[0m",
      "\u001b[0;31mValueError\u001b[0m                                Traceback (most recent call last)",
      "\u001b[0;32m/tmp/ipykernel_32371/3557477607.py\u001b[0m in \u001b[0;36m<module>\u001b[0;34m\u001b[0m\n\u001b[1;32m      6\u001b[0m \u001b[0;34m\u001b[0m\u001b[0m\n\u001b[1;32m      7\u001b[0m \u001b[0mprint\u001b[0m\u001b[0;34m(\u001b[0m\u001b[0minfo\u001b[0m\u001b[0;34m[\u001b[0m\u001b[0;34m\"sampler\"\u001b[0m\u001b[0;34m]\u001b[0m\u001b[0;34m)\u001b[0m\u001b[0;34m\u001b[0m\u001b[0;34m\u001b[0m\u001b[0m\n\u001b[0;32m----> 8\u001b[0;31m \u001b[0mupdated_info\u001b[0m\u001b[0;34m,\u001b[0m \u001b[0msampler\u001b[0m \u001b[0;34m=\u001b[0m \u001b[0mrun\u001b[0m\u001b[0;34m(\u001b[0m\u001b[0minfo\u001b[0m\u001b[0;34m)\u001b[0m\u001b[0;34m\u001b[0m\u001b[0;34m\u001b[0m\u001b[0m\n\u001b[0m",
      "\u001b[0;32m/gpfs/projects/MirandaGroup/kunhao/cocoa_ggsplit_emu/Cocoa/cobaya/cobaya/run.py\u001b[0m in \u001b[0;36mrun\u001b[0;34m(info_or_yaml_or_file, packages_path, output, debug, stop_at_error, resume, force, minimize, no_mpi, test, override)\u001b[0m\n\u001b[1;32m    166\u001b[0m                     \u001b[0;32mreturn\u001b[0m \u001b[0mInfoSamplerTuple\u001b[0m\u001b[0;34m(\u001b[0m\u001b[0mupdated_info\u001b[0m\u001b[0;34m,\u001b[0m \u001b[0msampler\u001b[0m\u001b[0;34m)\u001b[0m\u001b[0;34m\u001b[0m\u001b[0;34m\u001b[0m\u001b[0m\n\u001b[1;32m    167\u001b[0m                 \u001b[0;31m# Run the sampler\u001b[0m\u001b[0;34m\u001b[0m\u001b[0;34m\u001b[0m\u001b[0;34m\u001b[0m\u001b[0m\n\u001b[0;32m--> 168\u001b[0;31m                 \u001b[0msampler\u001b[0m\u001b[0;34m.\u001b[0m\u001b[0mrun\u001b[0m\u001b[0;34m(\u001b[0m\u001b[0;34m)\u001b[0m\u001b[0;34m\u001b[0m\u001b[0;34m\u001b[0m\u001b[0m\n\u001b[0m\u001b[1;32m    169\u001b[0m \u001b[0;34m\u001b[0m\u001b[0m\n\u001b[1;32m    170\u001b[0m     \u001b[0;32mreturn\u001b[0m \u001b[0mInfoSamplerTuple\u001b[0m\u001b[0;34m(\u001b[0m\u001b[0mupdated_info\u001b[0m\u001b[0;34m,\u001b[0m \u001b[0msampler\u001b[0m\u001b[0;34m)\u001b[0m\u001b[0;34m\u001b[0m\u001b[0;34m\u001b[0m\u001b[0m\n",
      "\u001b[0;32m/gpfs/projects/MirandaGroup/kunhao/cocoa_ggsplit_emu/Cocoa/cobaya/cobaya/samplers/dynesty/dynesty.py\u001b[0m in \u001b[0;36mrun\u001b[0;34m(self)\u001b[0m\n\u001b[1;32m     93\u001b[0m                 \u001b[0;32mfrom\u001b[0m \u001b[0mschwimmbad\u001b[0m \u001b[0;32mimport\u001b[0m \u001b[0mMPIPool\u001b[0m\u001b[0;34m\u001b[0m\u001b[0;34m\u001b[0m\u001b[0m\n\u001b[1;32m     94\u001b[0m                 \u001b[0;31m#KZ: TODO\u001b[0m\u001b[0;34m\u001b[0m\u001b[0;34m\u001b[0m\u001b[0;34m\u001b[0m\u001b[0m\n\u001b[0;32m---> 95\u001b[0;31m                 \u001b[0mpool\u001b[0m \u001b[0;34m=\u001b[0m \u001b[0mMPIPool\u001b[0m\u001b[0;34m(\u001b[0m\u001b[0;34m)\u001b[0m\u001b[0;34m\u001b[0m\u001b[0;34m\u001b[0m\u001b[0m\n\u001b[0m\u001b[1;32m     96\u001b[0m                 \u001b[0;32mif\u001b[0m \u001b[0;32mnot\u001b[0m \u001b[0mpool\u001b[0m\u001b[0;34m.\u001b[0m\u001b[0mis_master\u001b[0m\u001b[0;34m(\u001b[0m\u001b[0;34m)\u001b[0m\u001b[0;34m:\u001b[0m\u001b[0;34m\u001b[0m\u001b[0;34m\u001b[0m\u001b[0m\n\u001b[1;32m     97\u001b[0m                     \u001b[0mpool\u001b[0m\u001b[0;34m.\u001b[0m\u001b[0mwait\u001b[0m\u001b[0;34m(\u001b[0m\u001b[0;34m)\u001b[0m\u001b[0;34m\u001b[0m\u001b[0;34m\u001b[0m\u001b[0m\n",
      "\u001b[0;32m~/work/cocoa_ggsplit_emu/Cocoa/.local/lib/python3.7/site-packages/schwimmbad/mpi.py\u001b[0m in \u001b[0;36m__init__\u001b[0;34m(self, comm, use_dill)\u001b[0m\n\u001b[1;32m     87\u001b[0m \u001b[0;34m\u001b[0m\u001b[0m\n\u001b[1;32m     88\u001b[0m         \u001b[0;32mif\u001b[0m \u001b[0mself\u001b[0m\u001b[0;34m.\u001b[0m\u001b[0msize\u001b[0m \u001b[0;34m==\u001b[0m \u001b[0;36m0\u001b[0m\u001b[0;34m:\u001b[0m\u001b[0;34m\u001b[0m\u001b[0;34m\u001b[0m\u001b[0m\n\u001b[0;32m---> 89\u001b[0;31m             raise ValueError(\"Tried to create an MPI pool, but there \"\n\u001b[0m\u001b[1;32m     90\u001b[0m                              \u001b[0;34m\"was only one MPI process available. \"\u001b[0m\u001b[0;34m\u001b[0m\u001b[0;34m\u001b[0m\u001b[0m\n\u001b[1;32m     91\u001b[0m                              \"Need at least two.\")\n",
      "\u001b[0;31mValueError\u001b[0m: Tried to create an MPI pool, but there was only one MPI process available. Need at least two."
     ]
    }
   ],
   "source": [
    "yaml_file = \"./projects/lsst_y1/EXAMPLE_dynesty3.yaml\"\n",
    "info      = yaml_load_file(yaml_file)\n",
    "for k, v in {\"-f\": \"force\", \"-r\": \"resume\", \"-d\": \"debug\"}.items():\n",
    "    if k in sys.argv:\n",
    "        info[v] = True\n",
    "\n",
    "print(info[\"sampler\"])\n",
    "updated_info, sampler = run(info)"
   ]
  },
  {
   "cell_type": "code",
   "execution_count": null,
   "id": "7671bdb1",
   "metadata": {},
   "outputs": [],
   "source": []
  }
 ],
 "metadata": {
  "kernelspec": {
   "display_name": "Python 3 (ipykernel)",
   "language": "python",
   "name": "python3"
  },
  "language_info": {
   "codemirror_mode": {
    "name": "ipython",
    "version": 3
   },
   "file_extension": ".py",
   "mimetype": "text/x-python",
   "name": "python",
   "nbconvert_exporter": "python",
   "pygments_lexer": "ipython3",
   "version": "3.7.12"
  }
 },
 "nbformat": 4,
 "nbformat_minor": 5
}
